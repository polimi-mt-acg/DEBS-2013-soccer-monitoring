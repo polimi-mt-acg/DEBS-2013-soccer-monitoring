{
 "cells": [
  {
   "cell_type": "markdown",
   "metadata": {},
   "source": [
    "# Speedup Analysis\n",
    "\n",
    "This notebook is about **exploring** the effects on the application **performance** of the following parameters:\n",
    " - **Number of threads**: the parallelization factor\n",
    " - **Batch size**: the number of events to gather before processing them in parallel"
   ]
  },
  {
   "cell_type": "markdown",
   "metadata": {},
   "source": [
    "### Application interface\n",
    "The `soccer-monitoring` application exposes the following interface through the command-line\n",
    "\n",
    "```bash\n",
    "$ soccer-monitoring -h                                                                                                        \n",
    "DEBS 2013 - Soccer Monitoring tool:\n",
    "  -h [ --help ]                   Print this message\n",
    "  -T [ --time-units ] arg         Frequency of statistics (in seconds)\n",
    "  -K [ --max-distance ] arg       Maximum distance for ball possession \n",
    "                                  eligibility\n",
    "  -s [ --stream ] arg             Game stream file path\n",
    "  -m [ --metadata ] arg           Metadata file path\n",
    "  -t [ --threads ] arg (=0)       Number of threads\n",
    "  -B [ --batch-size ] arg (=1500) Events batch size (default: auto)\n",
    "  -o [ --output ] arg             Output file path (default: stdout)\n",
    "```"
   ]
  },
  {
   "cell_type": "markdown",
   "metadata": {},
   "source": [
    "### Design of experiment\n",
    "In order to explore the domain space, we are going to measure the time required _on average_ to process a batch of events, subject to the parameters changing. Concerning the **number of threads** we are testing the values $nb\\_threads = \\left \\{1, 2, 4, 8 \\right \\}$, while for **batch size** we are testing the values $batch\\_size = \\left \\{1, 10, 10^2, 10^3, 10^4, 10^5 \\right \\}$.\n",
    "\n",
    "As for the other parameters, we keep them fixed\n",
    " - Frequency of statistics = $60 s$\n",
    " - Maximum distance for ball possession eligibility = $1 m$\n",
    " \n",
    "### Equipment\n",
    "Macbook Pro Mid-2012 shipping a Intel(R) Core(TM) i7-3615QM CPU @ 2.30GHz."
   ]
  },
  {
   "cell_type": "code",
   "execution_count": 31,
   "metadata": {},
   "outputs": [],
   "source": [
    "import numpy as np\n",
    "import pandas as pd\n",
    "import re\n",
    "import subprocess\n",
    "\n",
    "%matplotlib ipympl"
   ]
  },
  {
   "cell_type": "code",
   "execution_count": 32,
   "metadata": {},
   "outputs": [],
   "source": [
    "args = ['../cmake-build-release/soccer-monitoring', \\\n",
    "        '-T', '60', \\\n",
    "        '-K', '1', \\\n",
    "        '-s', '../test/resources/game_data_start_10_1e7', \\\n",
    "        '-m', '../datasets/preprocessed/metadata']\n",
    "nb_threads = [1, 2, 4, 8]\n",
    "batch_size = [int(10 ** x) for x in range(0, 8)]\n",
    "pattern = r'Processed \\d+ seconds of the stream \\(~ \\d+ events\\) in (\\d+\\.\\d+) seconds'\n",
    "pattern = re.compile(pattern)"
   ]
  },
  {
   "cell_type": "markdown",
   "metadata": {},
   "source": [
    "## Number of threads analysis"
   ]
  },
  {
   "cell_type": "code",
   "execution_count": 39,
   "metadata": {},
   "outputs": [],
   "source": [
    "args_t = args + ['-B', '1000000']\n",
    "data_t = np.zeros((len(nb_threads), 12))\n",
    "for i, threads in enumerate(nb_threads):\n",
    "    out = subprocess.run(args=args_t + ['-t', '{}'.format(threads)], \\\n",
    "                         check=True, \\\n",
    "                         capture_output=True, \\\n",
    "                         text=True)\n",
    "    ts = [float(m.group(1)) for m in re.finditer(pattern, out.stdout)]\n",
    "    data_t[i] = ts"
   ]
  },
  {
   "cell_type": "code",
   "execution_count": 40,
   "metadata": {},
   "outputs": [
    {
     "data": {
      "application/vnd.jupyter.widget-view+json": {
       "model_id": "b3f1edd1e85f49b28f8b3d29ea70091d",
       "version_major": 2,
       "version_minor": 0
      },
      "text/plain": [
       "FigureCanvasNbAgg()"
      ]
     },
     "metadata": {},
     "output_type": "display_data"
    },
    {
     "data": {
      "application/vnd.jupyter.widget-view+json": {
       "model_id": "5694ea8df59c45dda9e18d69e3878cad",
       "version_major": 2,
       "version_minor": 0
      },
      "text/plain": [
       "FigureCanvasNbAgg()"
      ]
     },
     "metadata": {},
     "output_type": "display_data"
    },
    {
     "data": {
      "text/plain": [
       "<matplotlib.axes._subplots.AxesSubplot at 0x7fab23d20550>"
      ]
     },
     "execution_count": 40,
     "metadata": {},
     "output_type": "execute_result"
    }
   ],
   "source": [
    "def make_threads_df(data, nb_threads):\n",
    "    sorted_data = np.sort(data, axis=1)\n",
    "    batch_time = np.mean(sorted_data[::, 1:-1], axis=1)\n",
    "    columns = ['BatchTime']\n",
    "    index = [str(t) for t in nb_threads]\n",
    "\n",
    "    df = pd.DataFrame(data=batch_time, columns=columns, index=index)\n",
    "    \n",
    "    speedup = (df.loc['1'] / df) - 1\n",
    "    speedup.loc['1'] += 2e-3\n",
    "    speedup = speedup.rename(columns={'BatchTime': 'Speedup'})\n",
    "    return df, speedup\n",
    "\n",
    "exec_time_t, speedup_t = make_threads_df(data_t, nb_threads)\n",
    "\n",
    "exec_time_t.plot.bar(y='BatchTime', legend=False, title='Batch time (seconds)', rot=0)\n",
    "speedup_t.plot.bar(y='Speedup', legend=False, title='Speedup (%)', rot=0)"
   ]
  },
  {
   "cell_type": "markdown",
   "metadata": {},
   "source": [
    "## Batch size analysis"
   ]
  },
  {
   "cell_type": "code",
   "execution_count": 35,
   "metadata": {},
   "outputs": [],
   "source": [
    "args_b = args + ['-t', '4']\n",
    "data_b = np.zeros((len(batch_size), 12))\n",
    "for i, size in enumerate(batch_size):\n",
    "    out = subprocess.run(args=args_b + ['-B', '{}'.format(size)], \\\n",
    "                         check=True, \\\n",
    "                         capture_output=True, \\\n",
    "                         text=True)\n",
    "    ts = [float(m.group(1)) for m in re.finditer(pattern, out.stdout)]\n",
    "    data_b[i] = ts"
   ]
  },
  {
   "cell_type": "code",
   "execution_count": 37,
   "metadata": {},
   "outputs": [
    {
     "data": {
      "application/vnd.jupyter.widget-view+json": {
       "model_id": "70fbbf4b35b84682a1566dce4b903472",
       "version_major": 2,
       "version_minor": 0
      },
      "text/plain": [
       "FigureCanvasNbAgg()"
      ]
     },
     "metadata": {},
     "output_type": "display_data"
    },
    {
     "data": {
      "application/vnd.jupyter.widget-view+json": {
       "model_id": "d598f2bd1ca0435ebe9e398fe6e06a15",
       "version_major": 2,
       "version_minor": 0
      },
      "text/plain": [
       "FigureCanvasNbAgg()"
      ]
     },
     "metadata": {},
     "output_type": "display_data"
    },
    {
     "data": {
      "text/plain": [
       "<matplotlib.axes._subplots.AxesSubplot at 0x7fab23ed83c8>"
      ]
     },
     "execution_count": 37,
     "metadata": {},
     "output_type": "execute_result"
    }
   ],
   "source": [
    "def make_batchsize_df(data):\n",
    "    sorted_data = np.sort(data, axis=1)\n",
    "    batch_time = np.mean(sorted_data[::, 1:-1], axis=1)\n",
    "    columns = ['BatchTime']\n",
    "    index = ['1e+{}'.format(x) for x in range(0, 8)]\n",
    "\n",
    "    df = pd.DataFrame(data=batch_time, columns=columns, index=index)\n",
    "\n",
    "    speedup = (df.loc['1e+0'] / df) - 1\n",
    "    speedup.loc['1e+0'] += 2e-2\n",
    "    speedup = speedup.rename(columns={'BatchTime': 'Speedup'})\n",
    "    return df, speedup\n",
    "\n",
    "exec_time_b, speedup_b = make_batchsize_df(data_b)\n",
    "\n",
    "exec_time_b.plot.bar(y='BatchTime', legend=False, title='Batch time (seconds)', rot=0)\n",
    "speedup_b.plot.bar(y='Speedup', legend=False, title='Speedup (%)', rot=0)"
   ]
  }
 ],
 "metadata": {
  "kernelspec": {
   "display_name": "Python 3",
   "language": "python",
   "name": "python3"
  },
  "language_info": {
   "codemirror_mode": {
    "name": "ipython",
    "version": 3
   },
   "file_extension": ".py",
   "mimetype": "text/x-python",
   "name": "python",
   "nbconvert_exporter": "python",
   "pygments_lexer": "ipython3",
   "version": "3.7.0"
  }
 },
 "nbformat": 4,
 "nbformat_minor": 2
}
